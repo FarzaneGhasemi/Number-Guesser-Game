{
 "cells": [
  {
   "cell_type": "code",
   "execution_count": 16,
   "id": "03f2abf2",
   "metadata": {},
   "outputs": [],
   "source": [
    "import random"
   ]
  },
  {
   "cell_type": "code",
   "execution_count": 17,
   "id": "d7124427",
   "metadata": {},
   "outputs": [],
   "source": [
    "def validate_input(input_num):\n",
    "    if not input_num.isdigit():\n",
    "        print('Invalid input. Please enter a number.')\n",
    "        return False\n",
    "\n",
    "    input_num = int(input_num)\n",
    "    if input_num < 1 or input_num > 100:\n",
    "        print('Invalid input. Please enter a number between 1 and 100.')\n",
    "        return False\n",
    "\n",
    "    return True"
   ]
  },
  {
   "cell_type": "code",
   "execution_count": 21,
   "id": "c30e4b5e",
   "metadata": {},
   "outputs": [],
   "source": [
    "rand_num = random.randint(1, 100)"
   ]
  },
  {
   "cell_type": "code",
   "execution_count": 22,
   "id": "1bd0f261",
   "metadata": {},
   "outputs": [
    {
     "name": "stdout",
     "output_type": "stream",
     "text": [
      "Enter your guess between 1 and 100:50\n",
      "You guessed too high!\n",
      "Enter your guess between 1 and 100:40\n",
      "You guessed too high!\n",
      "Enter your guess between 1 and 100:20\n",
      "You guessed too high!\n",
      "Enter your guess between 1 and 100:10\n",
      "You guessed too high!\n",
      "Enter your guess between 1 and 100:2\n",
      "You guessed too low!\n",
      "Enter your guess between 1 and 100:3\n",
      "You guessed too low!\n",
      "Enter your guess between 1 and 100:5\n",
      "You guessed too low!\n",
      "Enter your guess between 1 and 100:6\n",
      "You guessed too low!\n",
      "Enter your guess between 1 and 100:8\n",
      "You guessed correctly! Your score is: 20\n",
      "Do you want to play again? (y/n)n\n",
      "Goodbye!\n"
     ]
    }
   ],
   "source": [
    "score = 100\n",
    "while True:\n",
    "    input_num = input(\"Enter your guess between 1 and 100:\")\n",
    "    if input_num == 'q':\n",
    "        print('Goodbye!')\n",
    "        break\n",
    "    if not validate_input(input_num):\n",
    "        continue\n",
    "    input_num = int(input_num)\n",
    "    if input_num == rand_num:\n",
    "        print(f'You guessed correctly! Your score is: {score}')\n",
    "        wanna_play = input('Do you want to play again? (y/n)')\n",
    "        if wanna_play == 'y':\n",
    "            rand_num = random.randint(1, 100)\n",
    "            score = 100\n",
    "            continue\n",
    "        else:\n",
    "            print('Goodbye!')\n",
    "            break\n",
    "    elif input_num > rand_num:\n",
    "        print('You guessed too high!')\n",
    "    else:\n",
    "        print('You guessed too low!')\n",
    "    score -= 10\n",
    "    score = max(score, 0)"
   ]
  },
  {
   "cell_type": "code",
   "execution_count": null,
   "id": "54e6ffe6",
   "metadata": {},
   "outputs": [],
   "source": []
  }
 ],
 "metadata": {
  "kernelspec": {
   "display_name": "Python 3",
   "language": "python",
   "name": "python3"
  },
  "language_info": {
   "codemirror_mode": {
    "name": "ipython",
    "version": 3
   },
   "file_extension": ".py",
   "mimetype": "text/x-python",
   "name": "python",
   "nbconvert_exporter": "python",
   "pygments_lexer": "ipython3",
   "version": "3.8.8"
  }
 },
 "nbformat": 4,
 "nbformat_minor": 5
}
